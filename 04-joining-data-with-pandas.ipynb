{
 "cells": [
  {
   "cell_type": "markdown",
   "id": "9182e1ea-d948-496d-9800-1a1a1a550742",
   "metadata": {
    "id": "f9e13780-fcf2-4e66-8958-b47802dead91"
   },
   "source": [
    "# Chapter 4. Joining Data with pandas"
   ]
  },
  {
   "cell_type": "markdown",
   "id": "25809963-a7d3-496f-aa53-ecfca36306a9",
   "metadata": {},
   "source": [
    "# 4.1 Data merging basics"
   ]
  },
  {
   "cell_type": "markdown",
   "id": "cd8afe84-af27-4df5-ab18-f80b7538c964",
   "metadata": {},
   "source": [
    "* We will use data from the city of Chicago data portal, and will merge it with census data."
   ]
  },
  {
   "cell_type": "code",
   "execution_count": 1,
   "id": "8cdedfe0-5045-4af5-aa90-5125402fedaf",
   "metadata": {},
   "outputs": [],
   "source": [
    "# The Ward data\n",
    "# wards = pd.read_csv(\"Ward_Offices.csv\")\n",
    "# print(wards.head())\n",
    "# print(wards.shape)"
   ]
  },
  {
   "cell_type": "code",
   "execution_count": 2,
   "id": "5a160d11-afbb-4b19-9391-0fd1a0cc8ed0",
   "metadata": {},
   "outputs": [],
   "source": [
    "# Census data\n",
    "# census = pd.read_csv(\"Ward_Census.csv\")\n",
    "# print(census.head())\n",
    "# print(census.shape)"
   ]
  },
  {
   "cell_type": "markdown",
   "id": "6872d62b-8e5f-4643-8c85-4954ca6aca69",
   "metadata": {},
   "source": [
    "* The two tables are related by their \"ward\" column.\n",
    "* We can merge them toghether by matching the ward numbers from each row of the wards table to the ward numbers from the census table"
   ]
  },
  {
   "cell_type": "markdown",
   "id": "ffcc42a8-cbcc-4b69-b576-866df6074520",
   "metadata": {},
   "source": [
    "## Inner Join\n",
    "* An Inner Join will only return rows that have matching values in both tables"
   ]
  },
  {
   "cell_type": "markdown",
   "id": "f9caddc1-65e3-4e16-acb9-a7a00834a239",
   "metadata": {},
   "source": [
    "* Pandas package has a method called merge.\n",
    "* It takes the first dataframe and merges it with the second dataframe.\n",
    "* We use the \"on\" argument to tel the method we want to merge the two dataframes on the ward column.\n",
    "* The columns from the first table will appear first, followed by the columns from the second table."
   ]
  },
  {
   "cell_type": "code",
   "execution_count": 3,
   "id": "67e89058-4663-423d-8ec5-72783d334249",
   "metadata": {},
   "outputs": [],
   "source": [
    "# wards_census = wards.merge(census, on=\"ward\")\n",
    "# print(wards_census.head())"
   ]
  },
  {
   "cell_type": "markdown",
   "id": "18ec48b0-af94-4366-8f69-1591d6e66a46",
   "metadata": {},
   "source": [
    "### Suffixes"
   ]
  },
  {
   "cell_type": "markdown",
   "id": "f420ef95-73d8-480e-947b-1545b7a805f6",
   "metadata": {},
   "source": [
    "* A merged table may contain columns with suffixes of underscore x or y (\"zip_x\", \"zip_y\")\n",
    "* This is because both wards and census tables contained the same column\n",
    "* The method automatically gives them a suffix to avoid multiple columns with the same name"
   ]
  },
  {
   "cell_type": "code",
   "execution_count": 4,
   "id": "b2542486-806a-4a58-8785-7e97ddb1718b",
   "metadata": {},
   "outputs": [],
   "source": [
    "# print(ward_census.columns)"
   ]
  },
  {
   "cell_type": "code",
   "execution_count": 5,
   "id": "2be167bb-7e29-46cc-8a2a-dde7936c28d5",
   "metadata": {},
   "outputs": [],
   "source": [
    "# wards_census = wards.merge(census, on=\"ward\", suffixes=(\"_ward\",\"_cen\"))\n",
    "# print(wards_census.head())\n",
    "# print(wards_census.shape)"
   ]
  },
  {
   "cell_type": "markdown",
   "id": "b0273af0-2eff-4142-aa53-607fccd016c4",
   "metadata": {},
   "source": [
    "## One-to-many relationships"
   ]
  },
  {
   "cell_type": "markdown",
   "id": "aa17d868-777b-437c-bc57-afec378f507b",
   "metadata": {},
   "source": [
    "* One-to-one: every row in the left table is related to only on row in the right table.\n",
    "* One-to-many: every row in the lelt table is related to one or more rows in the right table."
   ]
  },
  {
   "cell_type": "markdown",
   "id": "5b8e7a21-45db-485d-b347-bcbd290297d9",
   "metadata": {},
   "source": [
    "### Merging multiple DataFrames"
   ]
  },
  {
   "cell_type": "code",
   "execution_count": 6,
   "id": "eda45c00-fb41-40e7-b40c-97f327aa747b",
   "metadata": {},
   "outputs": [],
   "source": [
    "# grants = pd.read_csv(\"Small_Business_Grant_Agreements.csv\")\n",
    "# print(grants.head())"
   ]
  },
  {
   "cell_type": "code",
   "execution_count": 7,
   "id": "7592bdc4-5c08-4506-a6f7-52da525f9926",
   "metadata": {},
   "outputs": [],
   "source": [
    "# Theoretical merge\n",
    "# If we merge on the \"zip\" column, the zip for Reggie's bar from the licencses table will be matched to multiple businesess in the grants table.\n",
    "# We do not want that\n",
    "\n",
    "# grants_licenses = grants.merge(licenses, on=\"zip\")\n",
    "# print(grants_licenses.loc[grants_licenses[\"business\"]==\"REGGIE'S BAR & GRILL\", [\"grant\", \"company\", \"account\", \"ward\", \"business\"]])"
   ]
  },
  {
   "cell_type": "code",
   "execution_count": 8,
   "id": "6833ffcf-a43e-4943-aa58-b2931a6d48af",
   "metadata": {},
   "outputs": [],
   "source": [
    "# Practical merge\n",
    "# If we merged on address only, there is small risk that the address will repeat in different parts of the city\n",
    "# THE BEST OPTION IS TO MERGE THE TABLES USING THE COMBINATION OF BOTH address AND zip code\n",
    "\n",
    "# # grants_licenses = grants.merge(licenses, on=[\"address\", \"zip\"])"
   ]
  },
  {
   "cell_type": "code",
   "execution_count": 9,
   "id": "7335ccab-0c30-4512-a005-80cbcf124411",
   "metadata": {},
   "outputs": [],
   "source": [
    "# grants_licenses_ward = grants.merge(licenses, on=[\"address\", \"zip\"])\\\n",
    "#                             .merge(wards, on=\"ward\", suffixes=(\"_bus\",\"_ward\"))\n",
    "# grants_licenses_ward.head()"
   ]
  },
  {
   "cell_type": "code",
   "execution_count": 10,
   "id": "2fada3c9-39cd-4f92-80eb-2f0805e5c09a",
   "metadata": {},
   "outputs": [],
   "source": [
    "# RESULTS\n",
    "# import matplotlib.pyplot as plt\n",
    "# grant_licenses_ward.groupby(\"ward\").agg(\"sum\").plot(kind=\"bar\", y=\"grant\")\n",
    "# plt.show()"
   ]
  },
  {
   "cell_type": "markdown",
   "id": "2ba9334f-3fff-4cbf-9a21-f1a2c7aa8704",
   "metadata": {},
   "source": [
    "# 4.2 Merging tables with different join types"
   ]
  },
  {
   "cell_type": "markdown",
   "id": "3368553b-806c-4316-8872-f7c5a60e860b",
   "metadata": {},
   "source": [
    "## Left Join\n",
    "* A Left Join will return all rows of data from the left table and only those rows from the right table where key columns match."
   ]
  },
  {
   "cell_type": "code",
   "execution_count": 11,
   "id": "971c66c3-7c24-4365-b8a2-59c493f24aea",
   "metadata": {},
   "outputs": [],
   "source": [
    "# Movies table\n",
    "\n",
    "# movies = pd.read_csv(\"tmdb_movies.csv\")\n",
    "# print(movies.head())\n",
    "# print(movies.shape) # shape (4803,4)"
   ]
  },
  {
   "cell_type": "code",
   "execution_count": 12,
   "id": "3f069df8-db69-4179-8342-34754819fe19",
   "metadata": {},
   "outputs": [],
   "source": [
    "# Tagline table\n",
    "\n",
    "# taglines = pd.read_csv(\"tmdb_taglines.csv\")\n",
    "# print(movies.head())\n",
    "# print(movies.shape) # shape (3955,2)"
   ]
  },
  {
   "cell_type": "code",
   "execution_count": 13,
   "id": "89e12ed4-8239-4887-aa8e-d25ac07ecbb7",
   "metadata": {},
   "outputs": [],
   "source": [
    "# Left join\n",
    "\n",
    "# movies_taglines = movies.merge(taglines, on=\"id\", how=\"left\")\n",
    "# print(movies_taglines.head())\n",
    "# print(movies_taglines.shape) # shape (4805,5)"
   ]
  },
  {
   "cell_type": "markdown",
   "id": "d1335f11-a138-42df-af5a-b12f55c5ffb4",
   "metadata": {},
   "source": [
    "## Right Join\n",
    "* A Right Join will return all of the rows from the right table and includes only those rows from the left table that have matching values.\n",
    "* It is the mirror opposite of the left join."
   ]
  },
  {
   "cell_type": "code",
   "execution_count": 14,
   "id": "ad59e593-6a2e-4c57-ac77-af6404f55942",
   "metadata": {},
   "outputs": [],
   "source": [
    "# Looking at original data\n",
    "\n",
    "# movies_to_genres = pd.read_csv(\"tmdb_movies_to_genres.csv\")\n",
    "# print(movies_to_genres.head())"
   ]
  },
  {
   "cell_type": "code",
   "execution_count": 15,
   "id": "94c70f5e-edf7-461b-aea6-31ba9cfb7647",
   "metadata": {},
   "outputs": [],
   "source": [
    "# Filtering the data\n",
    "\n",
    "# m = movies_to_genres[\"genre\"] == \"TV Movie\"\n",
    "# tv_genre = movies_to_genres[m]\n",
    "# print(tv_genre)"
   ]
  },
  {
   "cell_type": "code",
   "execution_count": 16,
   "id": "c9512699-7a6e-4c5c-bb55-7d98ec7fe4bd",
   "metadata": {},
   "outputs": [],
   "source": [
    "# Right join\n",
    "\n",
    "# tv_movies = movies.merge(tv_genre, how=\"right\", left_on=\"id\", right_on= \"movie_id\")\n",
    "# print(tv_movies.head())"
   ]
  },
  {
   "cell_type": "markdown",
   "id": "c7f6d0c2-65ec-4ef1-bb69-b4f3810d92f3",
   "metadata": {},
   "source": [
    "## Outer Join\n",
    "* An Outer Join will return all of the rows from both tables regardless if there is a match between the tables."
   ]
  },
  {
   "cell_type": "code",
   "execution_count": 17,
   "id": "643b753f-1d18-4282-a12e-b35df2feec86",
   "metadata": {},
   "outputs": [],
   "source": [
    "# Looking at original data\n",
    "\n",
    "# movies_to_genres = pd.read_csv(\"tmdb_movies_to_genres.csv\")\n",
    "# print(movies_to_genres.head())"
   ]
  },
  {
   "cell_type": "code",
   "execution_count": 18,
   "id": "17384df5-1fd6-4de0-9e62-a853d59fd135",
   "metadata": {},
   "outputs": [],
   "source": [
    "# Filtering the data\n",
    "\n",
    "# m = movies_to_genres[\"genre\"] == \"Family\"\n",
    "# family = movies_to_genres[m].heaad(3)\n",
    "# print(family)"
   ]
  },
  {
   "cell_type": "code",
   "execution_count": 19,
   "id": "6c83dcc1-d492-4eb9-ad6a-a5dfebb0740a",
   "metadata": {},
   "outputs": [],
   "source": [
    "# Filtering the data\n",
    "\n",
    "# m = movies_to_genres[\"genre\"] == \"Comedy\"\n",
    "# comedy = movies_to_genres[m].head(3)\n",
    "# print(comedy)"
   ]
  },
  {
   "cell_type": "code",
   "execution_count": 20,
   "id": "1cd46479-b46a-40b6-b049-4f184592265a",
   "metadata": {},
   "outputs": [],
   "source": [
    "# Outer join \n",
    "\n",
    "# family_comedy = family.merge(comedy, on=\"movie_id\", how=\"outer\", suffixes=(\"_fam\", \"_com\"))\n",
    "# print(family_comedy)"
   ]
  },
  {
   "cell_type": "markdown",
   "id": "82719479-ade4-49b1-974e-3db91c359b03",
   "metadata": {},
   "source": [
    "## Merging a table to itself\n",
    "Common situations:\n",
    "* Hierarchical relationships\n",
    "* Sequential relationships\n",
    "* Graph data"
   ]
  },
  {
   "cell_type": "code",
   "execution_count": 21,
   "id": "f22beec5-c20d-44bc-b186-38c7ed48c428",
   "metadata": {},
   "outputs": [],
   "source": [
    "# Sequel movie data\n",
    "# Columns: \"id\", \"title\", \"sequel\""
   ]
  },
  {
   "cell_type": "code",
   "execution_count": 22,
   "id": "3b6906eb-c8ce-40e6-9443-8a8017365b65",
   "metadata": {},
   "outputs": [],
   "source": [
    "# Merging a table to itself through left join\n",
    "\n",
    "# original_sequels = sequels.merge(sequels, left_on=\"sequel\", right_on=\"id\", suffixes=(\"_org\",\"_seq\"))\n",
    "# print(original_Sequels.head())"
   ]
  },
  {
   "cell_type": "code",
   "execution_count": 23,
   "id": "c601fde2-5420-4a93-affa-01db7c2e0d27",
   "metadata": {},
   "outputs": [],
   "source": [
    "# Format results\n",
    "# print(original_sequels[,[\"title_org\",\"title_seq\"]].head())"
   ]
  },
  {
   "cell_type": "markdown",
   "id": "d50484aa-15bb-4c19-85d1-977fecb6de00",
   "metadata": {},
   "source": [
    "## Merging on indexes"
   ]
  },
  {
   "cell_type": "markdown",
   "id": "2afd867e-2232-4188-865b-9aaa637ec99e",
   "metadata": {},
   "source": [
    "### Single Index datasets"
   ]
  },
  {
   "cell_type": "code",
   "execution_count": 24,
   "id": "a9c4188c-7f8f-448f-9e7e-0ac5ae32c654",
   "metadata": {},
   "outputs": [],
   "source": [
    "# Table 1 (later Table 3) without id as and index, columns: \"id\", \"title\", \"popularity\", \"release_date\"\n",
    "\n",
    "# Table 2 with \"id\" as index, columns: \"title\", \"popularity\", \"release_date\""
   ]
  },
  {
   "cell_type": "code",
   "execution_count": 25,
   "id": "83ba5b42-791f-44e6-b492-f468c517641e",
   "metadata": {},
   "outputs": [],
   "source": [
    "# Table 3 with id as index\n",
    "# movies = pd.read_csv(\"tmdb_movies.csv\", index_col=[\"id\"])\n",
    "# print(movies.head())\n",
    "\n",
    "# index: \"id\"\n",
    "# columns: \"tagline\""
   ]
  },
  {
   "cell_type": "code",
   "execution_count": 26,
   "id": "aef72f88-4fb6-4452-b160-f85a32aa6f57",
   "metadata": {},
   "outputs": [],
   "source": [
    "# Merging tables 3 and 2\n",
    "# movies_taglines = movies.merge(taglines, on=\"id\", how=\"left\")\n",
    "# print(movies_taglines.head())\n",
    "\n",
    "# index: \"id\"\n",
    "# columns: \"title\", \"popularity\", \"release_date\", tagline\""
   ]
  },
  {
   "cell_type": "markdown",
   "id": "459d99de-c69c-4c3d-9d6e-98de16d84c69",
   "metadata": {},
   "source": [
    "### MultiIndex datasets"
   ]
  },
  {
   "cell_type": "code",
   "execution_count": 27,
   "id": "8e7c11db-81f0-40a2-add6-3ae62fec720b",
   "metadata": {},
   "outputs": [],
   "source": [
    "# samuel = pd.read_csv(\"samuel.csv\",\n",
    "#                     index_col=[\"movie_id\",\"cast_id\"])\n",
    "# print(samuel.head())\n",
    "\n",
    "# index: \"movie_id\",\"cast_id\n",
    "# columns: \"name\""
   ]
  },
  {
   "cell_type": "code",
   "execution_count": 28,
   "id": "23fa5dbd-1151-4c40-8f69-cc4aaf9e2e32",
   "metadata": {},
   "outputs": [],
   "source": [
    "# casts = pd.read_csv(\"casts.csv\",\n",
    "#                     index_col=[\"movie_id\",\"cast_id\"])\n",
    "# print(casts.head())\n",
    "\n",
    "# index: \"movie_id\",\"cast_id\n",
    "# columns: \"character\""
   ]
  },
  {
   "cell_type": "code",
   "execution_count": 29,
   "id": "412eb011-c35d-463b-b155-9d88c1b40cbe",
   "metadata": {},
   "outputs": [],
   "source": [
    "# samuel_casts = samuel.merge(casts, on=[\"movie_id\",\"cast_id\"])\n",
    "# print(samuel_casts.head())\n",
    "# print(samuel_casts.shape)\n",
    "\n",
    "# index: \"movie_id\", \"cast_id\"\n",
    "# columns: \"name\", \"character\""
   ]
  },
  {
   "cell_type": "markdown",
   "id": "ffa87319-9127-4b89-b78e-8bff977039db",
   "metadata": {},
   "source": [
    "### With left_on and right_on"
   ]
  },
  {
   "cell_type": "code",
   "execution_count": 30,
   "id": "3a99aa25-a7b6-4ff5-a4d5-b690ace6bc2e",
   "metadata": {},
   "outputs": [],
   "source": [
    "# Table 1 movies\n",
    "# Index: \"id\"\n",
    "# Columns: \"title\", \"popularity\", \"release_date\""
   ]
  },
  {
   "cell_type": "code",
   "execution_count": 31,
   "id": "3d075850-ced8-4427-baf7-f7c2ae949a03",
   "metadata": {},
   "outputs": [],
   "source": [
    "# Table 2 movies_to_genres\n",
    "# Index: \"movie_id\"\n",
    "# Columns: \"genre\""
   ]
  },
  {
   "cell_type": "code",
   "execution_count": 32,
   "id": "a7105f2a-7a8b-432b-9af1-b49ad951e366",
   "metadata": {},
   "outputs": [],
   "source": [
    "# movie_genres = movies.merge(movies_to_genres,\n",
    "#                            left_on=\"id\", left_index=True\n",
    "#                            right_on=\"movie_id\", right_index=True)\n",
    "# print(movie_genres.head())\n",
    "\n",
    "# index: \"id\"\n",
    "# columns: \"id\", \"title\", \"popularity\", \"release_date\", \"genre\""
   ]
  },
  {
   "cell_type": "markdown",
   "id": "a01e3149-c808-41ef-9373-6f09710f4807",
   "metadata": {},
   "source": [
    "# 4.3 Advanced merging and concatenating"
   ]
  },
  {
   "cell_type": "markdown",
   "id": "e51bcdcb-2f6e-497f-bce9-9b4c048e90c0",
   "metadata": {},
   "source": [
    "## Filtering joins\n",
    "* Pandas doesn't directly support them\n",
    "* Mutating joins: combine data from two tables\n",
    "* Filtering joins: filter observations from one table based on whether or not they match an observation in another table"
   ]
  },
  {
   "cell_type": "markdown",
   "id": "48f5fabf-6d1a-4f18-83b7-3dfab4d62690",
   "metadata": {},
   "source": [
    "### Semi join\n",
    "* Filters the left table down to those observations that have a match in the right table\n",
    "* Similar to an inner join (where intersection between tables is returned), but only columns from the left table are shown"
   ]
  },
  {
   "cell_type": "code",
   "execution_count": 33,
   "id": "68c09991-a127-4cd0-bdb1-41ab335af653",
   "metadata": {},
   "outputs": [],
   "source": [
    "# Table 1 \"genres\"\n",
    "\n",
    "# Columns: \"gid\", \"name\""
   ]
  },
  {
   "cell_type": "code",
   "execution_count": 34,
   "id": "83dc42af-f218-410c-a54c-e3956ca6bec6",
   "metadata": {},
   "outputs": [],
   "source": [
    "# Table 2 \"top_tracks\"\n",
    "\n",
    "# Columns: \"tid\", \"name\", \"aid\", \"mtid\", \"gid\", \"composer\", \"u_price\""
   ]
  },
  {
   "cell_type": "code",
   "execution_count": 35,
   "id": "99db454c-f6dc-4825-8ca1-1923fb34e332",
   "metadata": {},
   "outputs": [],
   "source": [
    "# Task: Find which genres appear in \"top_tracks\" table\n",
    "\n",
    "# genres_tracks = genres.merge(top_tracks, on=\"gid\")\n",
    "# print(genres_tracks.head())\n",
    "\n",
    "# top_genres = genres[\"gid\"].isin(genres_tracks[\"gid\"])\n",
    "# print(top_genres.head())"
   ]
  },
  {
   "cell_type": "markdown",
   "id": "81fc251e-4662-4922-be24-ddd106378abc",
   "metadata": {},
   "source": [
    "### Anti join\n",
    "* Returns the observations in the left table that do not have a matching observation in the right table.\n",
    "* Returns ONLY columns from the left table and not the right"
   ]
  },
  {
   "cell_type": "code",
   "execution_count": 36,
   "id": "38217ad0-5549-4cd9-b16c-b83093b4edf6",
   "metadata": {},
   "outputs": [],
   "source": [
    "# Task: Find which genres do not appear in the \"top_tracks\" table\n",
    "\n",
    "# genres_track = genres.merge(top_tracks, on=\"gid\", how=\"left\", indicator=True)\n",
    "# print(genres_track.head())\n",
    "\n",
    "# gid_list = genres_tracks.loc[genres_tracks[\"_merge\"] == \"left_only\", \"gid\"]\n",
    "# print(gid_list.head())\n",
    "\n",
    "# non_top_genres = genres[genres[\"gid\"].isin(gid_list)]\n",
    "# print(non_top_genres.head())"
   ]
  },
  {
   "cell_type": "markdown",
   "id": "2be15927-68c2-4ac3-90a1-3d1f01b7b6f8",
   "metadata": {},
   "source": [
    "## Concatenate DataFrames toghether vertically\n",
    "* We can use the concat method to concatenate (stick tables toghether), vertically or horizontally"
   ]
  },
  {
   "cell_type": "markdown",
   "id": "4b0141ba-e8e1-4334-871c-4ae34e9dd31f",
   "metadata": {},
   "source": [
    "### Basic concatenation\n",
    "* Data for different periods of time will come in multiple tables.\n",
    "* If we want to analyze all tables, we need to combine them into one."
   ]
  },
  {
   "cell_type": "code",
   "execution_count": 37,
   "id": "d5d54bbe-c383-441b-93b0-56379a57ac69",
   "metadata": {},
   "outputs": [],
   "source": [
    "# Example\n",
    "# Columns: \"iid\", \"cid\", \"invoice_date\", \"total\"\n",
    "\n",
    "# inv_jan\n",
    "# inv_feb\n",
    "# inv_mar"
   ]
  },
  {
   "cell_type": "code",
   "execution_count": 38,
   "id": "f9f75cd2-cc7c-4f0f-9a1a-5a35659b6e4a",
   "metadata": {},
   "outputs": [],
   "source": [
    "# Basic concatenation\n",
    "# pd.concat([inv_jan, inv_feb, inv_mar])"
   ]
  },
  {
   "cell_type": "markdown",
   "id": "5068d830-3ad5-4faa-856b-668b21a2359c",
   "metadata": {},
   "source": [
    "### Ignoring the index\n",
    "* The index will go from 0 to n-1\n",
    "* Used if the index has no valuable information"
   ]
  },
  {
   "cell_type": "code",
   "execution_count": 39,
   "id": "4a511e43-e35b-4cdc-ab0d-b93cf5550fa4",
   "metadata": {},
   "outputs": [],
   "source": [
    "# pd.concat([inv_jan, inv_feb, inv_mar], \n",
    "#           ignore_index=True)"
   ]
  },
  {
   "cell_type": "markdown",
   "id": "ee3c0969-d0d6-4965-a6df-b573074fd8f7",
   "metadata": {},
   "source": [
    "### Setting labels to original tables\n",
    "* Associate specific keys with each of the pieces of our -three- original tables\n",
    "* ```ingore_index=False``` (can't add a key and ignore an index at the same time)\n",
    "* Results in a table with a multi-index, with the label on the first label"
   ]
  },
  {
   "cell_type": "code",
   "execution_count": 40,
   "id": "ecae266b-2583-4d43-aede-77ab1c756383",
   "metadata": {},
   "outputs": [],
   "source": [
    "# pd.concat([inv_jan, inv_feb, inv_mar],\n",
    "#           ignore_index=False,\n",
    "#           keys=[\"jan\",\"feb\",\"mar\"])"
   ]
  },
  {
   "cell_type": "markdown",
   "id": "cb3b6581-5155-45b5-9051-8e1557991a72",
   "metadata": {},
   "source": [
    "### Concatenate tables with different column names\n",
    "* For combining tables that have different column names\n",
    "* ```sort=True``` (alphabetically sort the different column names in the result)"
   ]
  },
  {
   "cell_type": "code",
   "execution_count": 41,
   "id": "bba60f2e-4131-482f-91ed-0881fa92bf88",
   "metadata": {},
   "outputs": [],
   "source": [
    "# Table inv_jan\n",
    "# Columns: \"iid\", \"cid\", \"invoice_date\", \"total\"\n",
    "\n",
    "# Table inv_feb\n",
    "# Columns: \"iid\", \"cid\", \"invoice_date\", \"total\", \"bill_ctry\""
   ]
  },
  {
   "cell_type": "code",
   "execution_count": 42,
   "id": "28d88404-f435-455c-8d25-b9c7724c47eb",
   "metadata": {},
   "outputs": [],
   "source": [
    "# All columns between tables\n",
    "\n",
    "# pd.concat([inv_jan, inv_feb], \n",
    "#           sort=True)"
   ]
  },
  {
   "cell_type": "code",
   "execution_count": 43,
   "id": "564eebd2-46af-4d90-ba5a-00b9c226f3f2",
   "metadata": {},
   "outputs": [],
   "source": [
    "# Only matching columns between tables\n",
    "\n",
    "# pd.concat([inv_jan, inv_feb], \n",
    "#           join=\"inner\")"
   ]
  },
  {
   "cell_type": "markdown",
   "id": "8262050c-ac51-4557-8ff7-eacf22f3635a",
   "metadata": {},
   "source": [
    "## Verifying integrity"
   ]
  },
  {
   "cell_type": "markdown",
   "id": "43ce68e1-2137-442b-a3fb-79e5d8f65974",
   "metadata": {},
   "source": [
    "Why:\n",
    "- Real world data is often not clean\n",
    "\n",
    "What to do:\n",
    "- Fix incorrect data\n",
    "- Drop duplicate rows"
   ]
  },
  {
   "cell_type": "markdown",
   "id": "63176020-28f5-409a-a79a-37190c47a4d0",
   "metadata": {},
   "source": [
    "Some possible merging issues:\n",
    "\n",
    "1. Unintentional one-to-many relationship\n",
    "2. Unintentional many-to-many relationship\n",
    "\n",
    "Some possible concatenating issues:\n",
    "\n",
    "1. Duplicate records possibly unintentionally introduced"
   ]
  },
  {
   "cell_type": "markdown",
   "id": "065ee708-962e-402c-8a99-907443335450",
   "metadata": {},
   "source": [
    "### Validating merges\n",
    "```pd.merge(validate=None)```\n",
    "Checks if merge is of a specified type (replace \"None\" with):\n",
    "1. 'one_to_one'\n",
    "2. 'one_to_many'\n",
    "3. 'many_to_one'\n",
    "4. 'many_to_many'"
   ]
  },
  {
   "cell_type": "code",
   "execution_count": 44,
   "id": "d0a58729-6fd1-48cd-86d1-6886041236a5",
   "metadata": {},
   "outputs": [],
   "source": [
    "# Table 1 \"tracks\"\n",
    "\n",
    "# Columns: \"tid\", \"name\", \"name\", \"aid\", \"mtid\", \"gid\", \"u_price\""
   ]
  },
  {
   "cell_type": "code",
   "execution_count": 45,
   "id": "64975133-a633-4199-bfe7-8bbf6caeea59",
   "metadata": {},
   "outputs": [],
   "source": [
    "# Table 2 \"specs\"\n",
    "\n",
    "# Columns: \"tid\", \"milliseconds\", \"bytes\""
   ]
  },
  {
   "cell_type": "code",
   "execution_count": 46,
   "id": "8b67b2dc-5b01-4fc3-91fe-8928332096a6",
   "metadata": {},
   "outputs": [],
   "source": [
    "# tracks.merge(specs, on=\"tid\",\n",
    "#         validate=\"one_to_one\")\n",
    "# Result: Merge keys not unique, not a one'to'one merge"
   ]
  },
  {
   "cell_type": "markdown",
   "id": "91f31adb-fdac-4cf1-aa1b-9a83f1f9056e",
   "metadata": {},
   "source": [
    "### Verifying concatenations\n",
    "```pd.concat(verify_integrity=Fasle)```\n",
    "* Check whether the new concatenated index contains duplicates\n",
    "* Default value is ```False```"
   ]
  },
  {
   "cell_type": "code",
   "execution_count": 47,
   "id": "5d186f06-3bad-4cd6-aab1-e15a2eea980d",
   "metadata": {},
   "outputs": [],
   "source": [
    "# Example\n",
    "# Columns: \"iid\", \"cid\", \"invoice_date\", \"total\"\n",
    "\n",
    "# inv_jan\n",
    "# inv_feb\n",
    "# inv_mar"
   ]
  },
  {
   "cell_type": "code",
   "execution_count": 48,
   "id": "e6e92742-af52-497c-926e-d4de722db440",
   "metadata": {},
   "outputs": [],
   "source": [
    "# pd.concat([inv_feb, inv_mar],\n",
    "#           verify_integrity=True)\n",
    "# Results: Indexes have overlapping values"
   ]
  },
  {
   "cell_type": "code",
   "execution_count": 49,
   "id": "41ebf908-3243-4370-9326-f9b0ace8db3a",
   "metadata": {},
   "outputs": [],
   "source": [
    "# pd.concat([inv_feb, inv_mar],\n",
    "#           verify_integrity=False)\n",
    "# Results: Tables concatenated"
   ]
  },
  {
   "cell_type": "markdown",
   "id": "8a43df81-7a01-4e1d-b74a-e717e00b2c01",
   "metadata": {},
   "source": [
    "# 4.4 Merging ordered and time-series data"
   ]
  },
  {
   "cell_type": "markdown",
   "id": "552b45ba-632c-4640-a652-42c84cee97aa",
   "metadata": {},
   "source": [
    "## ```pd.merge.ordered()```\n",
    "\n",
    "About the method...\n",
    "\n",
    "Syntax\n",
    "- Calling the function while working with 2 DataFrames: ```pd.merge_ordered(df1, df2, arguments)```\n",
    "\n",
    "Arguments\n",
    "- Column(s) to join on: ```on=```, ```left_on=```, ```right_on=```\n",
    "- Type of join: ```how=``` (left right, inner, outer)\n",
    "- Overlapping column names: ```suffixes=```\n",
    "- Interpolate missing data (default is ```None```): ```fill_method=ffill```\n",
    "\n",
    "What does it do?\n",
    "- Allows to merge TABLES\n",
    "- Similar results to the standard merge method with an outer join, but in here the results are sorted\n",
    "- Sorted results make it a useful method for ordered data / time-series"
   ]
  },
  {
   "cell_type": "code",
   "execution_count": 2,
   "id": "a6a657fc",
   "metadata": {},
   "outputs": [],
   "source": [
    "# Description of how the method works\n",
    "# Left table: Columns A,B,C\n",
    "# Right table: Columns C,D\n",
    "# Result table: Columns A,B,C,D"
   ]
  },
  {
   "cell_type": "code",
   "execution_count": 3,
   "id": "5842682f",
   "metadata": {},
   "outputs": [],
   "source": [
    "# Description: table of the stock prices of the Apple Coporation from Feb to Jun 2007\n",
    "# Table 1 name: aapl\n",
    "# Columns: date, close\n",
    "\n",
    "# Description: table of the stock prices of McDonald's from Jan to May 2007\n",
    "# Table 2 name: mcd\n",
    "# Columns: date, close"
   ]
  },
  {
   "cell_type": "code",
   "execution_count": 5,
   "id": "354c68a7",
   "metadata": {},
   "outputs": [],
   "source": [
    "# import pandas as pd\n",
    "# pd.merge_ordered(aapl, mcd, on=\"date\", suffixes=(\"_aapl\",\"_mcd\"))\n",
    "\n",
    "# Results in a table with columns: date, close_aapl, close_mcd "
   ]
  },
  {
   "cell_type": "code",
   "execution_count": null,
   "id": "3dc2dd0d",
   "metadata": {},
   "outputs": [],
   "source": [
    "# import pandas as pd\n",
    "# pd.merge_ordered(aapl, mcd, on=\"date\", suffixes=(\"_aapl\",\"_mcd\"), fill_method=\"ffill\")\n",
    "\n",
    "# Results in a table with columns: date, close_aapl, close_mcd\n",
    "# Particularities:  in the last row, a NaN value in the \"close_mcd\" column was filled with the value from the previous row due to the fill_method parameter\n",
    "# which forward fills null values through interpolation"
   ]
  },
  {
   "cell_type": "markdown",
   "id": "52be2ebe",
   "metadata": {},
   "source": [
    "## ```pd.merge.asof()```\n",
    "\n",
    "About the method...\n",
    "\n",
    "Syntax\n",
    "- Calling the function while working with 2 DataFrames: ```pd.merge.asof(df1, df2, arguments)```\n",
    "\n",
    "Arguments\n",
    "- Column(s) to join on: ```on=```, ```left_o=n```, ```right_on=```\n",
    "- Type of join: ```how=``` (left right, inner, outer)\n",
    "- Overlapping column names: ```suffixes=```\n",
    "- Direction (default is ```None```): ```forward```, ```nearest```\n",
    "\n",
    "What does it do?\n",
    "- Allows to merge TABLES\n",
    "- Similar results to the ```pd.merge_ordered()``` method, hence similar features (sorted results)\n",
    "- Match on the nearest key column and not exact matches"
   ]
  },
  {
   "cell_type": "markdown",
   "id": "399327b5",
   "metadata": {},
   "source": [
    "## ```dataframe.query()```\n",
    "\n",
    "About the method...\n",
    "\n",
    "Syntax\n",
    "- Calling the function while working with 2 DataFrames: ```dataframe.query('SOME SELECTION STATEMENT')```\n",
    "\n",
    "What does it do?\n",
    "- Accepts an input string that it will use to select rows to return from the table.\n",
    "- The string you provide to the query function is similar to the portion after the WHERE clause of a SQL statement."
   ]
  },
  {
   "cell_type": "markdown",
   "id": "d21800bf",
   "metadata": {},
   "source": [
    "## ```dataframe.melt()```\n",
    "\n",
    "About the method...\n",
    "\n",
    "Syntax\n",
    "- Calling the function while working with 2 DataFrames: ```dataframe.melt(arguments)```\n",
    "\n",
    "Arguments\n",
    "- Selects columns to be used as identifier variables: ```id_vars=[list of columns]```\n",
    "- Will allow us to control which columns are unpivoted: ```value_vars=[list of columns]```\n",
    "- Will allow us to set the name of column in the output: ```var_name='column'```\n",
    "- Will allow us to set the name of the value column in the output: ```var_values='column'```\n",
    "\n",
    "What does it do?\n",
    "- Will unpivot a table from wide to long format. This is often a much more computer-friendly format, therefore making this a valuable method to know.\n",
    "- Wide format: data where every row relates to one subject, and each column has different information about an attribute of that subject.\n",
    "- Long (or tall) format: information about one subject is found over many rows, and each row has one attribute about that subject."
   ]
  }
 ],
 "metadata": {
  "colab": {
   "provenance": []
  },
  "kernelspec": {
   "display_name": "Python 3 (ipykernel)",
   "language": "python",
   "name": "python3"
  },
  "language_info": {
   "codemirror_mode": {
    "name": "ipython",
    "version": 3
   },
   "file_extension": ".py",
   "mimetype": "text/x-python",
   "name": "python",
   "nbconvert_exporter": "python",
   "pygments_lexer": "ipython3",
   "version": "3.12.4"
  }
 },
 "nbformat": 4,
 "nbformat_minor": 5
}
